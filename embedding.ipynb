{
 "cells": [
  {
   "cell_type": "code",
   "execution_count": 1,
   "metadata": {},
   "outputs": [],
   "source": [
    "from tensorflow.keras.preprocessing.text import one_hot"
   ]
  },
  {
   "cell_type": "code",
   "execution_count": 2,
   "metadata": {},
   "outputs": [],
   "source": [
    "### sentences\n",
    "sent=[  'the glass of milk',\n",
    "     'the glass of juice',\n",
    "     'the cup of tea',\n",
    "    'I am a good boy',\n",
    "     'I am a good developer',\n",
    "     'understand the meaning of words',\n",
    "     'your videos are good',]"
   ]
  },
  {
   "cell_type": "code",
   "execution_count": 3,
   "metadata": {},
   "outputs": [
    {
     "data": {
      "text/plain": [
       "['the glass of milk',\n",
       " 'the glass of juice',\n",
       " 'the cup of tea',\n",
       " 'I am a good boy',\n",
       " 'I am a good developer',\n",
       " 'understand the meaning of words',\n",
       " 'your videos are good']"
      ]
     },
     "execution_count": 3,
     "metadata": {},
     "output_type": "execute_result"
    }
   ],
   "source": [
    "sent"
   ]
  },
  {
   "cell_type": "code",
   "execution_count": 8,
   "metadata": {},
   "outputs": [],
   "source": [
    "## Define the vocabulary size\n",
    "voc_size=10000"
   ]
  },
  {
   "cell_type": "code",
   "execution_count": 9,
   "metadata": {},
   "outputs": [
    {
     "data": {
      "text/plain": [
       "['the glass of milk',\n",
       " 'the glass of juice',\n",
       " 'the cup of tea',\n",
       " 'I am a good boy',\n",
       " 'I am a good developer',\n",
       " 'understand the meaning of words',\n",
       " 'your videos are good']"
      ]
     },
     "execution_count": 9,
     "metadata": {},
     "output_type": "execute_result"
    }
   ],
   "source": [
    "sent"
   ]
  },
  {
   "cell_type": "code",
   "execution_count": 10,
   "metadata": {},
   "outputs": [
    {
     "data": {
      "text/plain": [
       "[[5038, 3547, 5080, 5462],\n",
       " [5038, 3547, 5080, 8470],\n",
       " [5038, 7552, 5080, 1723],\n",
       " [7700, 2833, 7376, 9544, 7966],\n",
       " [7700, 2833, 7376, 9544, 7962],\n",
       " [4834, 5038, 201, 5080, 7976],\n",
       " [7458, 9024, 3306, 9544]]"
      ]
     },
     "execution_count": 10,
     "metadata": {},
     "output_type": "execute_result"
    }
   ],
   "source": [
    "### One Hot Representation\n",
    "one_hot_repr=[one_hot(words,voc_size)for words in sent]\n",
    "one_hot_repr"
   ]
  },
  {
   "cell_type": "code",
   "execution_count": 11,
   "metadata": {},
   "outputs": [],
   "source": [
    "## word Embedding Representation\n",
    "\n",
    "from tensorflow.keras.layers import Embedding\n",
    "#from tensorflow.keras.processing.sequence import pad_sequences\n",
    "from tensorflow.keras.utils import pad_sequences\n",
    "from tensorflow.keras.models import Sequential"
   ]
  },
  {
   "cell_type": "code",
   "execution_count": 12,
   "metadata": {},
   "outputs": [],
   "source": [
    "import numpy as np"
   ]
  },
  {
   "cell_type": "code",
   "execution_count": 14,
   "metadata": {},
   "outputs": [
    {
     "name": "stdout",
     "output_type": "stream",
     "text": [
      "[[   0    0 5038 3547 5080 5462]\n",
      " [   0    0 5038 3547 5080 8470]\n",
      " [   0    0 5038 7552 5080 1723]\n",
      " [   0 7700 2833 7376 9544 7966]\n",
      " [   0 7700 2833 7376 9544 7962]\n",
      " [   0 4834 5038  201 5080 7976]\n",
      " [   0    0 7458 9024 3306 9544]]\n"
     ]
    }
   ],
   "source": [
    "sent_length=6\n",
    "embedded_docs=pad_sequences(one_hot_repr,padding='pre',maxlen=sent_length)\n",
    "print(embedded_docs)"
   ]
  },
  {
   "cell_type": "code",
   "execution_count": 15,
   "metadata": {},
   "outputs": [],
   "source": [
    "## feature representation\n",
    "dim=10"
   ]
  },
  {
   "cell_type": "code",
   "execution_count": 17,
   "metadata": {},
   "outputs": [],
   "source": [
    "model=Sequential()\n",
    "model.add(Embedding(voc_size,dim,input_length=sent_length))\n",
    "model.compile('adam','mse')"
   ]
  },
  {
   "cell_type": "code",
   "execution_count": 19,
   "metadata": {},
   "outputs": [
    {
     "data": {
      "text/html": [
       "<pre style=\"white-space:pre;overflow-x:auto;line-height:normal;font-family:Menlo,'DejaVu Sans Mono',consolas,'Courier New',monospace\"><span style=\"font-weight: bold\">Model: \"sequential_1\"</span>\n",
       "</pre>\n"
      ],
      "text/plain": [
       "\u001b[1mModel: \"sequential_1\"\u001b[0m\n"
      ]
     },
     "metadata": {},
     "output_type": "display_data"
    },
    {
     "data": {
      "text/html": [
       "<pre style=\"white-space:pre;overflow-x:auto;line-height:normal;font-family:Menlo,'DejaVu Sans Mono',consolas,'Courier New',monospace\">┏━━━━━━━━━━━━━━━━━━━━━━━━━━━━━━━━━┳━━━━━━━━━━━━━━━━━━━━━━━━┳━━━━━━━━━━━━━━━┓\n",
       "┃<span style=\"font-weight: bold\"> Layer (type)                    </span>┃<span style=\"font-weight: bold\"> Output Shape           </span>┃<span style=\"font-weight: bold\">       Param # </span>┃\n",
       "┡━━━━━━━━━━━━━━━━━━━━━━━━━━━━━━━━━╇━━━━━━━━━━━━━━━━━━━━━━━━╇━━━━━━━━━━━━━━━┩\n",
       "│ embedding_1 (<span style=\"color: #0087ff; text-decoration-color: #0087ff\">Embedding</span>)         │ ?                      │   <span style=\"color: #00af00; text-decoration-color: #00af00\">0</span> (unbuilt) │\n",
       "└─────────────────────────────────┴────────────────────────┴───────────────┘\n",
       "</pre>\n"
      ],
      "text/plain": [
       "┏━━━━━━━━━━━━━━━━━━━━━━━━━━━━━━━━━┳━━━━━━━━━━━━━━━━━━━━━━━━┳━━━━━━━━━━━━━━━┓\n",
       "┃\u001b[1m \u001b[0m\u001b[1mLayer (type)                   \u001b[0m\u001b[1m \u001b[0m┃\u001b[1m \u001b[0m\u001b[1mOutput Shape          \u001b[0m\u001b[1m \u001b[0m┃\u001b[1m \u001b[0m\u001b[1m      Param #\u001b[0m\u001b[1m \u001b[0m┃\n",
       "┡━━━━━━━━━━━━━━━━━━━━━━━━━━━━━━━━━╇━━━━━━━━━━━━━━━━━━━━━━━━╇━━━━━━━━━━━━━━━┩\n",
       "│ embedding_1 (\u001b[38;5;33mEmbedding\u001b[0m)         │ ?                      │   \u001b[38;5;34m0\u001b[0m (unbuilt) │\n",
       "└─────────────────────────────────┴────────────────────────┴───────────────┘\n"
      ]
     },
     "metadata": {},
     "output_type": "display_data"
    },
    {
     "data": {
      "text/html": [
       "<pre style=\"white-space:pre;overflow-x:auto;line-height:normal;font-family:Menlo,'DejaVu Sans Mono',consolas,'Courier New',monospace\"><span style=\"font-weight: bold\"> Total params: </span><span style=\"color: #00af00; text-decoration-color: #00af00\">0</span> (0.00 B)\n",
       "</pre>\n"
      ],
      "text/plain": [
       "\u001b[1m Total params: \u001b[0m\u001b[38;5;34m0\u001b[0m (0.00 B)\n"
      ]
     },
     "metadata": {},
     "output_type": "display_data"
    },
    {
     "data": {
      "text/html": [
       "<pre style=\"white-space:pre;overflow-x:auto;line-height:normal;font-family:Menlo,'DejaVu Sans Mono',consolas,'Courier New',monospace\"><span style=\"font-weight: bold\"> Trainable params: </span><span style=\"color: #00af00; text-decoration-color: #00af00\">0</span> (0.00 B)\n",
       "</pre>\n"
      ],
      "text/plain": [
       "\u001b[1m Trainable params: \u001b[0m\u001b[38;5;34m0\u001b[0m (0.00 B)\n"
      ]
     },
     "metadata": {},
     "output_type": "display_data"
    },
    {
     "data": {
      "text/html": [
       "<pre style=\"white-space:pre;overflow-x:auto;line-height:normal;font-family:Menlo,'DejaVu Sans Mono',consolas,'Courier New',monospace\"><span style=\"font-weight: bold\"> Non-trainable params: </span><span style=\"color: #00af00; text-decoration-color: #00af00\">0</span> (0.00 B)\n",
       "</pre>\n"
      ],
      "text/plain": [
       "\u001b[1m Non-trainable params: \u001b[0m\u001b[38;5;34m0\u001b[0m (0.00 B)\n"
      ]
     },
     "metadata": {},
     "output_type": "display_data"
    }
   ],
   "source": [
    "model.summary()"
   ]
  },
  {
   "cell_type": "code",
   "execution_count": 20,
   "metadata": {},
   "outputs": [
    {
     "name": "stdout",
     "output_type": "stream",
     "text": [
      "\u001b[1m1/1\u001b[0m \u001b[32m━━━━━━━━━━━━━━━━━━━━\u001b[0m\u001b[37m\u001b[0m \u001b[1m0s\u001b[0m 49ms/step\n"
     ]
    },
    {
     "data": {
      "text/plain": [
       "array([[[ 0.0227919 ,  0.02316325, -0.03453765, -0.02268807,\n",
       "          0.01522863,  0.02293451, -0.00457967, -0.03494108,\n",
       "         -0.03283944,  0.01169071],\n",
       "        [ 0.0227919 ,  0.02316325, -0.03453765, -0.02268807,\n",
       "          0.01522863,  0.02293451, -0.00457967, -0.03494108,\n",
       "         -0.03283944,  0.01169071],\n",
       "        [ 0.02887366,  0.03387945,  0.0198499 , -0.00448715,\n",
       "         -0.04641388,  0.03572999,  0.03062331, -0.02514279,\n",
       "          0.04407546, -0.02100145],\n",
       "        [ 0.01807359, -0.02009995,  0.0416838 ,  0.01113565,\n",
       "          0.02531284,  0.0429236 , -0.03920772, -0.02480888,\n",
       "          0.03214742, -0.04135239],\n",
       "        [ 0.0086931 ,  0.01726511, -0.01642327, -0.03322817,\n",
       "         -0.01752114, -0.04146619, -0.01999612, -0.00982241,\n",
       "          0.01463458,  0.04619801],\n",
       "        [-0.04720533,  0.02101555, -0.03177042,  0.00836065,\n",
       "         -0.02518882, -0.01174828,  0.01785183, -0.03740985,\n",
       "          0.04718299,  0.02586544]],\n",
       "\n",
       "       [[ 0.0227919 ,  0.02316325, -0.03453765, -0.02268807,\n",
       "          0.01522863,  0.02293451, -0.00457967, -0.03494108,\n",
       "         -0.03283944,  0.01169071],\n",
       "        [ 0.0227919 ,  0.02316325, -0.03453765, -0.02268807,\n",
       "          0.01522863,  0.02293451, -0.00457967, -0.03494108,\n",
       "         -0.03283944,  0.01169071],\n",
       "        [ 0.02887366,  0.03387945,  0.0198499 , -0.00448715,\n",
       "         -0.04641388,  0.03572999,  0.03062331, -0.02514279,\n",
       "          0.04407546, -0.02100145],\n",
       "        [ 0.01807359, -0.02009995,  0.0416838 ,  0.01113565,\n",
       "          0.02531284,  0.0429236 , -0.03920772, -0.02480888,\n",
       "          0.03214742, -0.04135239],\n",
       "        [ 0.0086931 ,  0.01726511, -0.01642327, -0.03322817,\n",
       "         -0.01752114, -0.04146619, -0.01999612, -0.00982241,\n",
       "          0.01463458,  0.04619801],\n",
       "        [ 0.03731722, -0.01382046,  0.04765508,  0.03870967,\n",
       "         -0.04553578, -0.01026094, -0.02452903, -0.02799216,\n",
       "          0.04546081, -0.00160347]],\n",
       "\n",
       "       [[ 0.0227919 ,  0.02316325, -0.03453765, -0.02268807,\n",
       "          0.01522863,  0.02293451, -0.00457967, -0.03494108,\n",
       "         -0.03283944,  0.01169071],\n",
       "        [ 0.0227919 ,  0.02316325, -0.03453765, -0.02268807,\n",
       "          0.01522863,  0.02293451, -0.00457967, -0.03494108,\n",
       "         -0.03283944,  0.01169071],\n",
       "        [ 0.02887366,  0.03387945,  0.0198499 , -0.00448715,\n",
       "         -0.04641388,  0.03572999,  0.03062331, -0.02514279,\n",
       "          0.04407546, -0.02100145],\n",
       "        [ 0.04519632,  0.02727273,  0.04246736,  0.00456781,\n",
       "          0.00791956, -0.03294332, -0.04432993,  0.0499462 ,\n",
       "         -0.02248963, -0.04799669],\n",
       "        [ 0.0086931 ,  0.01726511, -0.01642327, -0.03322817,\n",
       "         -0.01752114, -0.04146619, -0.01999612, -0.00982241,\n",
       "          0.01463458,  0.04619801],\n",
       "        [-0.01503503, -0.01173003,  0.03242806, -0.04287706,\n",
       "          0.0007895 ,  0.01948324,  0.00119656, -0.04637469,\n",
       "          0.01529856,  0.01162557]],\n",
       "\n",
       "       [[ 0.0227919 ,  0.02316325, -0.03453765, -0.02268807,\n",
       "          0.01522863,  0.02293451, -0.00457967, -0.03494108,\n",
       "         -0.03283944,  0.01169071],\n",
       "        [-0.01053166,  0.04313673, -0.03937792,  0.02066648,\n",
       "         -0.03482724, -0.03139714,  0.00448537, -0.04316826,\n",
       "         -0.04235253, -0.01611022],\n",
       "        [-0.04021039,  0.04047528, -0.04937   ,  0.02657977,\n",
       "         -0.02957209, -0.00317334, -0.03356816,  0.01330662,\n",
       "         -0.01982014, -0.03265159],\n",
       "        [-0.04907865,  0.01295711,  0.04777665,  0.00486677,\n",
       "         -0.00628625, -0.00887114, -0.00796678, -0.00718278,\n",
       "          0.02628693, -0.04982923],\n",
       "        [-0.01223916, -0.01831235,  0.04866095, -0.02670754,\n",
       "         -0.01769186,  0.0243093 ,  0.00397348, -0.02256154,\n",
       "         -0.0083609 , -0.02596457],\n",
       "        [-0.01204509, -0.0153463 , -0.04265684, -0.03966554,\n",
       "         -0.04901346,  0.036396  ,  0.03230574,  0.04464635,\n",
       "         -0.01565437, -0.00661988]],\n",
       "\n",
       "       [[ 0.0227919 ,  0.02316325, -0.03453765, -0.02268807,\n",
       "          0.01522863,  0.02293451, -0.00457967, -0.03494108,\n",
       "         -0.03283944,  0.01169071],\n",
       "        [-0.01053166,  0.04313673, -0.03937792,  0.02066648,\n",
       "         -0.03482724, -0.03139714,  0.00448537, -0.04316826,\n",
       "         -0.04235253, -0.01611022],\n",
       "        [-0.04021039,  0.04047528, -0.04937   ,  0.02657977,\n",
       "         -0.02957209, -0.00317334, -0.03356816,  0.01330662,\n",
       "         -0.01982014, -0.03265159],\n",
       "        [-0.04907865,  0.01295711,  0.04777665,  0.00486677,\n",
       "         -0.00628625, -0.00887114, -0.00796678, -0.00718278,\n",
       "          0.02628693, -0.04982923],\n",
       "        [-0.01223916, -0.01831235,  0.04866095, -0.02670754,\n",
       "         -0.01769186,  0.0243093 ,  0.00397348, -0.02256154,\n",
       "         -0.0083609 , -0.02596457],\n",
       "        [-0.03435922,  0.04471728, -0.00221062, -0.03142588,\n",
       "         -0.01264803, -0.00130161, -0.03373992,  0.03817706,\n",
       "         -0.03808999, -0.01123082]],\n",
       "\n",
       "       [[ 0.0227919 ,  0.02316325, -0.03453765, -0.02268807,\n",
       "          0.01522863,  0.02293451, -0.00457967, -0.03494108,\n",
       "         -0.03283944,  0.01169071],\n",
       "        [ 0.02409841,  0.02237428, -0.03820191, -0.00499111,\n",
       "         -0.01866592,  0.01248077, -0.03967124,  0.04486156,\n",
       "          0.02517552,  0.0050472 ],\n",
       "        [ 0.02887366,  0.03387945,  0.0198499 , -0.00448715,\n",
       "         -0.04641388,  0.03572999,  0.03062331, -0.02514279,\n",
       "          0.04407546, -0.02100145],\n",
       "        [-0.02819238, -0.04072778, -0.04351503,  0.017324  ,\n",
       "          0.01077114, -0.03316405,  0.02922987,  0.04257316,\n",
       "         -0.02225071, -0.03506077],\n",
       "        [ 0.0086931 ,  0.01726511, -0.01642327, -0.03322817,\n",
       "         -0.01752114, -0.04146619, -0.01999612, -0.00982241,\n",
       "          0.01463458,  0.04619801],\n",
       "        [ 0.04616758, -0.00941497,  0.03526807, -0.00470507,\n",
       "          0.02003049, -0.01089824, -0.00075128,  0.00649798,\n",
       "         -0.00140285,  0.03259203]],\n",
       "\n",
       "       [[ 0.0227919 ,  0.02316325, -0.03453765, -0.02268807,\n",
       "          0.01522863,  0.02293451, -0.00457967, -0.03494108,\n",
       "         -0.03283944,  0.01169071],\n",
       "        [ 0.0227919 ,  0.02316325, -0.03453765, -0.02268807,\n",
       "          0.01522863,  0.02293451, -0.00457967, -0.03494108,\n",
       "         -0.03283944,  0.01169071],\n",
       "        [ 0.03372589,  0.01869922, -0.0191706 ,  0.04185316,\n",
       "          0.00424805, -0.0298505 , -0.00351064,  0.04970114,\n",
       "          0.02695923,  0.01882297],\n",
       "        [ 0.04074767,  0.03343887, -0.01250676, -0.01762214,\n",
       "         -0.03539659,  0.01488319,  0.00644734, -0.00497146,\n",
       "         -0.02579582, -0.00566304],\n",
       "        [ 0.04982929, -0.00394671, -0.037353  , -0.01010992,\n",
       "          0.00098478,  0.01084675, -0.00877343, -0.01615445,\n",
       "          0.04893652, -0.0477126 ],\n",
       "        [-0.01223916, -0.01831235,  0.04866095, -0.02670754,\n",
       "         -0.01769186,  0.0243093 ,  0.00397348, -0.02256154,\n",
       "         -0.0083609 , -0.02596457]]], dtype=float32)"
      ]
     },
     "execution_count": 20,
     "metadata": {},
     "output_type": "execute_result"
    }
   ],
   "source": [
    "model.predict(embedded_docs)"
   ]
  },
  {
   "cell_type": "code",
   "execution_count": 24,
   "metadata": {},
   "outputs": [
    {
     "data": {
      "text/plain": [
       "array([   0,    0, 5038, 3547, 5080, 5462], dtype=int32)"
      ]
     },
     "execution_count": 24,
     "metadata": {},
     "output_type": "execute_result"
    }
   ],
   "source": [
    "embedded_docs[0]"
   ]
  },
  {
   "cell_type": "code",
   "execution_count": 25,
   "metadata": {},
   "outputs": [],
   "source": [
    "# model.predict(embedded_docs[0])"
   ]
  },
  {
   "cell_type": "code",
   "execution_count": null,
   "metadata": {},
   "outputs": [],
   "source": []
  }
 ],
 "metadata": {
  "kernelspec": {
   "display_name": "myenv",
   "language": "python",
   "name": "python3"
  },
  "language_info": {
   "codemirror_mode": {
    "name": "ipython",
    "version": 3
   },
   "file_extension": ".py",
   "mimetype": "text/x-python",
   "name": "python",
   "nbconvert_exporter": "python",
   "pygments_lexer": "ipython3",
   "version": "3.12.8"
  }
 },
 "nbformat": 4,
 "nbformat_minor": 2
}
