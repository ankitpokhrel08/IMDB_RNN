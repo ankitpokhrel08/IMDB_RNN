{
 "cells": [
  {
   "cell_type": "code",
   "execution_count": 1,
   "metadata": {},
   "outputs": [],
   "source": [
    "# Step 1: Import Libraries and Load the Model\n",
    "import numpy as np\n",
    "import tensorflow as tf\n",
    "from tensorflow.keras.datasets import imdb\n",
    "from tensorflow.keras.preprocessing import sequence\n",
    "from tensorflow.keras.models import load_model"
   ]
  },
  {
   "cell_type": "code",
   "execution_count": 2,
   "metadata": {},
   "outputs": [],
   "source": [
    "\n",
    "# Load the IMDB dataset word index\n",
    "word_index = imdb.get_word_index()\n",
    "reverse_word_index = {value: key for key, value in word_index.items()}"
   ]
  },
  {
   "cell_type": "code",
   "execution_count": 3,
   "metadata": {},
   "outputs": [
    {
     "name": "stderr",
     "output_type": "stream",
     "text": [
      "WARNING:absl:Compiled the loaded model, but the compiled metrics have yet to be built. `model.compile_metrics` will be empty until you train or evaluate the model.\n"
     ]
    },
    {
     "data": {
      "text/html": [
       "<pre style=\"white-space:pre;overflow-x:auto;line-height:normal;font-family:Menlo,'DejaVu Sans Mono',consolas,'Courier New',monospace\"><span style=\"font-weight: bold\">Model: \"sequential_2\"</span>\n",
       "</pre>\n"
      ],
      "text/plain": [
       "\u001b[1mModel: \"sequential_2\"\u001b[0m\n"
      ]
     },
     "metadata": {},
     "output_type": "display_data"
    },
    {
     "data": {
      "text/html": [
       "<pre style=\"white-space:pre;overflow-x:auto;line-height:normal;font-family:Menlo,'DejaVu Sans Mono',consolas,'Courier New',monospace\">┏━━━━━━━━━━━━━━━━━━━━━━━━━━━━━━━━━┳━━━━━━━━━━━━━━━━━━━━━━━━┳━━━━━━━━━━━━━━━┓\n",
       "┃<span style=\"font-weight: bold\"> Layer (type)                    </span>┃<span style=\"font-weight: bold\"> Output Shape           </span>┃<span style=\"font-weight: bold\">       Param # </span>┃\n",
       "┡━━━━━━━━━━━━━━━━━━━━━━━━━━━━━━━━━╇━━━━━━━━━━━━━━━━━━━━━━━━╇━━━━━━━━━━━━━━━┩\n",
       "│ embedding_2 (<span style=\"color: #0087ff; text-decoration-color: #0087ff\">Embedding</span>)         │ (<span style=\"color: #00af00; text-decoration-color: #00af00\">32</span>, <span style=\"color: #00af00; text-decoration-color: #00af00\">500</span>, <span style=\"color: #00af00; text-decoration-color: #00af00\">128</span>)         │     <span style=\"color: #00af00; text-decoration-color: #00af00\">1,280,000</span> │\n",
       "├─────────────────────────────────┼────────────────────────┼───────────────┤\n",
       "│ simple_rnn_2 (<span style=\"color: #0087ff; text-decoration-color: #0087ff\">SimpleRNN</span>)        │ (<span style=\"color: #00af00; text-decoration-color: #00af00\">32</span>, <span style=\"color: #00af00; text-decoration-color: #00af00\">128</span>)              │        <span style=\"color: #00af00; text-decoration-color: #00af00\">32,896</span> │\n",
       "├─────────────────────────────────┼────────────────────────┼───────────────┤\n",
       "│ dense_2 (<span style=\"color: #0087ff; text-decoration-color: #0087ff\">Dense</span>)                 │ (<span style=\"color: #00af00; text-decoration-color: #00af00\">32</span>, <span style=\"color: #00af00; text-decoration-color: #00af00\">1</span>)                │           <span style=\"color: #00af00; text-decoration-color: #00af00\">129</span> │\n",
       "└─────────────────────────────────┴────────────────────────┴───────────────┘\n",
       "</pre>\n"
      ],
      "text/plain": [
       "┏━━━━━━━━━━━━━━━━━━━━━━━━━━━━━━━━━┳━━━━━━━━━━━━━━━━━━━━━━━━┳━━━━━━━━━━━━━━━┓\n",
       "┃\u001b[1m \u001b[0m\u001b[1mLayer (type)                   \u001b[0m\u001b[1m \u001b[0m┃\u001b[1m \u001b[0m\u001b[1mOutput Shape          \u001b[0m\u001b[1m \u001b[0m┃\u001b[1m \u001b[0m\u001b[1m      Param #\u001b[0m\u001b[1m \u001b[0m┃\n",
       "┡━━━━━━━━━━━━━━━━━━━━━━━━━━━━━━━━━╇━━━━━━━━━━━━━━━━━━━━━━━━╇━━━━━━━━━━━━━━━┩\n",
       "│ embedding_2 (\u001b[38;5;33mEmbedding\u001b[0m)         │ (\u001b[38;5;34m32\u001b[0m, \u001b[38;5;34m500\u001b[0m, \u001b[38;5;34m128\u001b[0m)         │     \u001b[38;5;34m1,280,000\u001b[0m │\n",
       "├─────────────────────────────────┼────────────────────────┼───────────────┤\n",
       "│ simple_rnn_2 (\u001b[38;5;33mSimpleRNN\u001b[0m)        │ (\u001b[38;5;34m32\u001b[0m, \u001b[38;5;34m128\u001b[0m)              │        \u001b[38;5;34m32,896\u001b[0m │\n",
       "├─────────────────────────────────┼────────────────────────┼───────────────┤\n",
       "│ dense_2 (\u001b[38;5;33mDense\u001b[0m)                 │ (\u001b[38;5;34m32\u001b[0m, \u001b[38;5;34m1\u001b[0m)                │           \u001b[38;5;34m129\u001b[0m │\n",
       "└─────────────────────────────────┴────────────────────────┴───────────────┘\n"
      ]
     },
     "metadata": {},
     "output_type": "display_data"
    },
    {
     "data": {
      "text/html": [
       "<pre style=\"white-space:pre;overflow-x:auto;line-height:normal;font-family:Menlo,'DejaVu Sans Mono',consolas,'Courier New',monospace\"><span style=\"font-weight: bold\"> Total params: </span><span style=\"color: #00af00; text-decoration-color: #00af00\">1,313,027</span> (5.01 MB)\n",
       "</pre>\n"
      ],
      "text/plain": [
       "\u001b[1m Total params: \u001b[0m\u001b[38;5;34m1,313,027\u001b[0m (5.01 MB)\n"
      ]
     },
     "metadata": {},
     "output_type": "display_data"
    },
    {
     "data": {
      "text/html": [
       "<pre style=\"white-space:pre;overflow-x:auto;line-height:normal;font-family:Menlo,'DejaVu Sans Mono',consolas,'Courier New',monospace\"><span style=\"font-weight: bold\"> Trainable params: </span><span style=\"color: #00af00; text-decoration-color: #00af00\">1,313,025</span> (5.01 MB)\n",
       "</pre>\n"
      ],
      "text/plain": [
       "\u001b[1m Trainable params: \u001b[0m\u001b[38;5;34m1,313,025\u001b[0m (5.01 MB)\n"
      ]
     },
     "metadata": {},
     "output_type": "display_data"
    },
    {
     "data": {
      "text/html": [
       "<pre style=\"white-space:pre;overflow-x:auto;line-height:normal;font-family:Menlo,'DejaVu Sans Mono',consolas,'Courier New',monospace\"><span style=\"font-weight: bold\"> Non-trainable params: </span><span style=\"color: #00af00; text-decoration-color: #00af00\">0</span> (0.00 B)\n",
       "</pre>\n"
      ],
      "text/plain": [
       "\u001b[1m Non-trainable params: \u001b[0m\u001b[38;5;34m0\u001b[0m (0.00 B)\n"
      ]
     },
     "metadata": {},
     "output_type": "display_data"
    },
    {
     "data": {
      "text/html": [
       "<pre style=\"white-space:pre;overflow-x:auto;line-height:normal;font-family:Menlo,'DejaVu Sans Mono',consolas,'Courier New',monospace\"><span style=\"font-weight: bold\"> Optimizer params: </span><span style=\"color: #00af00; text-decoration-color: #00af00\">2</span> (12.00 B)\n",
       "</pre>\n"
      ],
      "text/plain": [
       "\u001b[1m Optimizer params: \u001b[0m\u001b[38;5;34m2\u001b[0m (12.00 B)\n"
      ]
     },
     "metadata": {},
     "output_type": "display_data"
    }
   ],
   "source": [
    "# Load the pre-trained model with ReLU activation\n",
    "model = load_model('simple_rnn_imdb.h5')\n",
    "model.summary()"
   ]
  },
  {
   "cell_type": "code",
   "execution_count": 4,
   "metadata": {},
   "outputs": [
    {
     "data": {
      "text/plain": [
       "[array([[-0.16953734, -0.0274625 , -0.11921798, ..., -0.07005404,\n",
       "          0.05235871,  0.2666227 ],\n",
       "        [-0.03799784,  0.03740208,  0.03961241, ...,  0.02465943,\n",
       "         -0.00564465, -0.02359857],\n",
       "        [ 0.01801413,  0.04623355, -0.05660094, ..., -0.09536061,\n",
       "         -0.0105329 ,  0.16448341],\n",
       "        ...,\n",
       "        [-0.03408889,  0.03441573, -0.00497305, ..., -0.17164542,\n",
       "         -0.12503791, -0.00635286],\n",
       "        [-0.0033772 ,  0.01591282,  0.00184395, ..., -0.01637639,\n",
       "         -0.016736  , -0.03513198],\n",
       "        [-0.02170563,  0.03349505, -0.10746686, ...,  0.01392191,\n",
       "         -0.07243555, -0.00674726]], dtype=float32),\n",
       " array([[-0.15474066, -0.1388347 ,  0.13628784, ...,  0.05110103,\n",
       "          0.13780494,  0.04863528],\n",
       "        [-0.12471819, -0.10631425,  0.12356933, ..., -0.1280687 ,\n",
       "          0.00268665,  0.04591458],\n",
       "        [-0.1764762 ,  0.09991004,  0.11760374, ..., -0.04243869,\n",
       "         -0.11774282, -0.02194932],\n",
       "        ...,\n",
       "        [-0.00514389, -0.10067791,  0.10517979, ..., -0.13687132,\n",
       "          0.06724826, -0.14524491],\n",
       "        [-0.05584433, -0.13534029, -0.07269876, ...,  0.12354939,\n",
       "          0.06843881, -0.08758568],\n",
       "        [-0.12865588,  0.13777296, -0.24308424, ...,  0.04598973,\n",
       "         -0.14175616, -0.24995625]], dtype=float32),\n",
       " array([[-0.11539708, -0.16188534, -0.0605463 , ..., -0.03968782,\n",
       "          0.085247  , -0.00137311],\n",
       "        [-0.12679112,  0.05375019,  0.17250593, ...,  0.16523296,\n",
       "         -0.06233367, -0.20199282],\n",
       "        [-0.02264032,  0.09144109,  0.00638864, ...,  0.01348927,\n",
       "          0.06245985,  0.05077495],\n",
       "        ...,\n",
       "        [-0.20239484,  0.16780673, -0.05681117, ...,  0.13733627,\n",
       "          0.06006893, -0.03721255],\n",
       "        [-0.0756025 , -0.02179393, -0.10576082, ..., -0.14515388,\n",
       "          0.03556623,  0.251702  ],\n",
       "        [ 0.00512976, -0.12217388, -0.16613048, ..., -0.1321462 ,\n",
       "          0.02776575, -0.10802737]], dtype=float32),\n",
       " array([ 0.01125837, -0.02829263, -0.03564515, -0.0366327 , -0.02838851,\n",
       "         0.03614186, -0.03058576, -0.03824081, -0.02598695,  0.01074911,\n",
       "        -0.02894937, -0.02023458, -0.03108658,  0.0176334 , -0.01580364,\n",
       "         0.01058962,  0.0176355 , -0.00132933, -0.01732598, -0.08852755,\n",
       "        -0.00649588,  0.01511291, -0.04158294, -0.04055579,  0.03199322,\n",
       "        -0.04067357, -0.02980922, -0.04683992,  0.03820479,  0.00562987,\n",
       "        -0.02202583, -0.00649895,  0.00853053, -0.04460879, -0.02793154,\n",
       "        -0.02762438, -0.02082074, -0.00838218, -0.01417997, -0.03060806,\n",
       "        -0.01397656, -0.01367401,  0.00027877, -0.06203391,  0.02934679,\n",
       "        -0.04294316,  0.03265728, -0.01776842, -0.00683432,  0.03732595,\n",
       "        -0.02303253, -0.03359165, -0.01575576, -0.04027066,  0.00050307,\n",
       "        -0.02826587, -0.04091458,  0.04355991,  0.02197162, -0.02741651,\n",
       "        -0.05598504, -0.02983917, -0.04039372, -0.03684407, -0.03232336,\n",
       "        -0.00096957, -0.05523289, -0.07087453, -0.03579532,  0.03252104,\n",
       "        -0.03942288,  0.01720219, -0.03972988, -0.04141087, -0.02969748,\n",
       "         0.06171696, -0.02228997, -0.03385862,  0.03340468,  0.00145178,\n",
       "        -0.03973378, -0.05503497, -0.03088212, -0.01277564,  0.00353498,\n",
       "         0.02898515,  0.01846482, -0.01698117, -0.04059573, -0.0258888 ,\n",
       "         0.01467885, -0.01008097, -0.03709152, -0.06802255, -0.01047116,\n",
       "         0.01072747, -0.02558085, -0.03597058, -0.03951611, -0.03500574,\n",
       "         0.01029244, -0.0291537 , -0.02799442, -0.01255484, -0.04815995,\n",
       "        -0.02718428, -0.01100164, -0.01092055, -0.00749185, -0.03345381,\n",
       "        -0.03536054,  0.02001718, -0.03969776, -0.00232534, -0.04010218,\n",
       "        -0.04839898,  0.01726719, -0.02556483,  0.03302455,  0.01453468,\n",
       "        -0.02789518,  0.04478658, -0.02909706,  0.02419229,  0.02823026,\n",
       "        -0.02714862, -0.02982415,  0.02489078], dtype=float32),\n",
       " array([[ 1.23371698e-01],\n",
       "        [-2.73768097e-01],\n",
       "        [-1.70943767e-01],\n",
       "        [ 9.61358473e-02],\n",
       "        [-2.10966364e-01],\n",
       "        [ 1.64114073e-01],\n",
       "        [-1.51648656e-01],\n",
       "        [ 4.51061763e-02],\n",
       "        [-1.70904472e-01],\n",
       "        [ 3.67281437e-01],\n",
       "        [-2.14159429e-01],\n",
       "        [ 1.53327301e-01],\n",
       "        [ 1.29797990e-02],\n",
       "        [-1.17482923e-01],\n",
       "        [-1.16676986e-01],\n",
       "        [ 2.06694320e-01],\n",
       "        [ 2.18146384e-01],\n",
       "        [ 1.16261512e-01],\n",
       "        [-2.27889761e-01],\n",
       "        [-1.82455163e-02],\n",
       "        [-2.55117893e-01],\n",
       "        [-3.32241386e-01],\n",
       "        [ 1.64749473e-01],\n",
       "        [-6.75307274e-01],\n",
       "        [ 5.09122794e-04],\n",
       "        [ 9.30057094e-02],\n",
       "        [ 9.93181989e-02],\n",
       "        [-2.36154776e-02],\n",
       "        [ 9.59717259e-02],\n",
       "        [-1.70604169e-01],\n",
       "        [-5.19607700e-02],\n",
       "        [-6.07944019e-02],\n",
       "        [ 3.26354653e-02],\n",
       "        [-4.66615632e-02],\n",
       "        [-1.38712063e-01],\n",
       "        [-1.88999951e-01],\n",
       "        [-1.22733191e-01],\n",
       "        [ 3.40824947e-02],\n",
       "        [ 6.10870421e-02],\n",
       "        [-1.65189236e-01],\n",
       "        [-2.55742878e-01],\n",
       "        [-1.95298091e-01],\n",
       "        [-5.48533499e-01],\n",
       "        [ 1.22507033e-03],\n",
       "        [ 4.55160029e-02],\n",
       "        [ 8.49227309e-02],\n",
       "        [ 2.58334968e-02],\n",
       "        [-1.09803192e-01],\n",
       "        [-1.18032604e-01],\n",
       "        [ 2.77718037e-01],\n",
       "        [-1.17208384e-01],\n",
       "        [ 1.77288130e-01],\n",
       "        [ 8.84367600e-02],\n",
       "        [ 1.23114035e-01],\n",
       "        [-7.47223049e-02],\n",
       "        [ 1.85928106e-01],\n",
       "        [ 7.37587690e-01],\n",
       "        [-2.18673557e-01],\n",
       "        [ 1.06703378e-01],\n",
       "        [-6.38185218e-02],\n",
       "        [ 2.98381686e-01],\n",
       "        [-2.44878814e-01],\n",
       "        [-2.50142187e-01],\n",
       "        [-8.30976889e-02],\n",
       "        [-8.01268756e-01],\n",
       "        [ 2.38998860e-01],\n",
       "        [ 2.09615737e-01],\n",
       "        [-1.01306155e-01],\n",
       "        [-1.43606782e-01],\n",
       "        [ 2.05641538e-02],\n",
       "        [-6.30392805e-02],\n",
       "        [-7.89339095e-02],\n",
       "        [ 1.56000271e-01],\n",
       "        [-9.46405530e-02],\n",
       "        [-8.13330412e-01],\n",
       "        [ 4.67387997e-02],\n",
       "        [-7.87319764e-02],\n",
       "        [-1.82763934e-01],\n",
       "        [ 2.49792919e-01],\n",
       "        [ 2.06308529e-01],\n",
       "        [-7.20965257e-03],\n",
       "        [-1.31979480e-01],\n",
       "        [-5.21058261e-01],\n",
       "        [ 3.57166193e-02],\n",
       "        [ 1.82693347e-01],\n",
       "        [ 1.32431328e-01],\n",
       "        [ 2.31334940e-01],\n",
       "        [ 1.33937165e-01],\n",
       "        [-1.54515564e-01],\n",
       "        [-2.52954960e-01],\n",
       "        [ 2.99692333e-01],\n",
       "        [ 2.68701203e-02],\n",
       "        [ 8.74746516e-02],\n",
       "        [ 6.17419928e-02],\n",
       "        [ 2.24744529e-01],\n",
       "        [-2.15536997e-01],\n",
       "        [-1.52944788e-01],\n",
       "        [-2.14346915e-01],\n",
       "        [-4.61206995e-02],\n",
       "        [-2.22133577e-01],\n",
       "        [ 2.46216625e-01],\n",
       "        [-3.00347149e-01],\n",
       "        [-1.77178800e-01],\n",
       "        [-2.00057045e-01],\n",
       "        [ 2.15893477e-01],\n",
       "        [ 1.81935318e-02],\n",
       "        [ 1.07298188e-01],\n",
       "        [ 2.90310055e-01],\n",
       "        [-2.01961949e-01],\n",
       "        [-2.66554832e-01],\n",
       "        [ 5.53920977e-02],\n",
       "        [ 5.99601939e-02],\n",
       "        [ 1.23124711e-01],\n",
       "        [ 6.24425113e-02],\n",
       "        [-1.08988501e-01],\n",
       "        [-1.50461644e-01],\n",
       "        [ 2.14849681e-01],\n",
       "        [ 3.05741467e-03],\n",
       "        [ 1.24676295e-01],\n",
       "        [ 8.83136615e-02],\n",
       "        [-6.09505326e-02],\n",
       "        [-2.24032402e-01],\n",
       "        [-1.54966190e-01],\n",
       "        [ 2.84582794e-01],\n",
       "        [ 1.95989072e-01],\n",
       "        [ 1.96690217e-01],\n",
       "        [-1.71280533e-01],\n",
       "        [ 1.88120931e-01]], dtype=float32),\n",
       " array([-0.24411681], dtype=float32)]"
      ]
     },
     "execution_count": 4,
     "metadata": {},
     "output_type": "execute_result"
    }
   ],
   "source": [
    "model.get_weights()"
   ]
  },
  {
   "cell_type": "code",
   "execution_count": 5,
   "metadata": {},
   "outputs": [],
   "source": [
    "# Step 2: Helper Functions\n",
    "# Function to decode reviews\n",
    "def decode_review(encoded_review):\n",
    "    return ' '.join([reverse_word_index.get(i - 3, '?') for i in encoded_review])\n",
    "\n",
    "# Function to preprocess user input\n",
    "def preprocess_text(text):\n",
    "    words = text.lower().split()\n",
    "    encoded_review = [word_index.get(word, 2) + 3 for word in words]\n",
    "    padded_review = sequence.pad_sequences([encoded_review], maxlen=500)\n",
    "    return padded_review"
   ]
  },
  {
   "cell_type": "code",
   "execution_count": 6,
   "metadata": {},
   "outputs": [],
   "source": [
    "### Prediction  function\n",
    "\n",
    "def predict_sentiment(review):\n",
    "    preprocessed_input=preprocess_text(review)\n",
    "\n",
    "    prediction=model.predict(preprocessed_input)\n",
    "\n",
    "    sentiment = 'Positive' if prediction[0][0] > 0.5 else 'Negative'\n",
    "    \n",
    "    return sentiment, prediction[0][0]\n",
    "\n"
   ]
  },
  {
   "cell_type": "code",
   "execution_count": 31,
   "metadata": {},
   "outputs": [
    {
     "name": "stdout",
     "output_type": "stream",
     "text": [
      "\u001b[1m1/1\u001b[0m \u001b[32m━━━━━━━━━━━━━━━━━━━━\u001b[0m\u001b[37m\u001b[0m \u001b[1m0s\u001b[0m 19ms/step\n",
      "Review: The movie was awesome.\n",
      "Sentiment: Negative\n",
      "Prediction Score: 0.3906240463256836\n"
     ]
    }
   ],
   "source": [
    "# Step 4: User Input and Prediction\n",
    "# Example review for prediction\n",
    "example_review = \"The movie was awesome.\"\n",
    "\n",
    "\n",
    "sentiment,score=predict_sentiment(example_review)\n",
    "\n",
    "print(f'Review: {example_review}')\n",
    "print(f'Sentiment: {sentiment}')\n",
    "print(f'Prediction Score: {score}')"
   ]
  },
  {
   "cell_type": "code",
   "execution_count": null,
   "metadata": {},
   "outputs": [],
   "source": []
  },
  {
   "cell_type": "code",
   "execution_count": null,
   "metadata": {},
   "outputs": [],
   "source": []
  },
  {
   "cell_type": "code",
   "execution_count": null,
   "metadata": {},
   "outputs": [],
   "source": []
  },
  {
   "cell_type": "code",
   "execution_count": null,
   "metadata": {},
   "outputs": [],
   "source": []
  }
 ],
 "metadata": {
  "kernelspec": {
   "display_name": "myenv",
   "language": "python",
   "name": "python3"
  },
  "language_info": {
   "codemirror_mode": {
    "name": "ipython",
    "version": 3
   },
   "file_extension": ".py",
   "mimetype": "text/x-python",
   "name": "python",
   "nbconvert_exporter": "python",
   "pygments_lexer": "ipython3",
   "version": "3.12.8"
  }
 },
 "nbformat": 4,
 "nbformat_minor": 2
}
